{
 "cells": [
  {
   "cell_type": "code",
   "execution_count": null,
   "metadata": {},
   "outputs": [],
   "source": [
    "import json, pathlib as pl, networkx as nx, pandas as pd, matplotlib.pyplot as plt\n",
    "DATA = pl.Path(\"../data\")\n",
    "\n",
    "G     = nx.readwrite.json_graph.node_link_graph(\n",
    "          json.load(open(DATA / \"Tracks.json\")))\n",
    "stations = pd.read_json(DATA / \"Stations.json\")\n",
    "yards    = pd.read_json(DATA / \"Railyard-position.json\")\n"
   ]
  },
  {
   "cell_type": "code",
   "execution_count": null,
   "metadata": {},
   "outputs": [],
   "source": [
    "# Merge station attributes into graph nodes\n",
    "attribs = stations.set_index(\"city\").to_dict(\"index\")\n",
    "nx.set_node_attributes(G, attribs)\n"
   ]
  },
  {
   "cell_type": "code",
   "execution_count": null,
   "metadata": {},
   "outputs": [],
   "source": [
    "fig, ax = plt.subplots(figsize=(10, 10))\n",
    "pos = nx.spring_layout(G, k=0.3, seed=42)\n",
    "\n",
    "node_size = [50 + 8 * G.nodes[n][\"n_tracks\"] for n in G.nodes]\n",
    "node_color = [\"red\" if n in yards[\"city\"].values else \"lightblue\" for n in G.nodes]\n",
    "\n",
    "nx.draw_networkx_nodes(G, pos, node_size=node_size, node_color=node_color, ax=ax)\n",
    "nx.draw_networkx_edges(G, pos, width=1.2, ax=ax)\n",
    "nx.draw_networkx_labels(G, pos, font_size=8, ax=ax)\n",
    "ax.set_title(\"Rail Network — Yard cities in red, node size = #tracks\")\n",
    "ax.axis(\"off\")\n"
   ]
  },
  {
   "cell_type": "code",
   "execution_count": null,
   "metadata": {},
   "outputs": [],
   "source": [
    "import folium\n",
    "from folium.plugins import MarkerCluster\n",
    "\n",
    "# centroid to center map\n",
    "mean_lat = yards[\"lat\"].mean()\n",
    "mean_lon = yards[\"lon\"].mean()\n",
    "m = folium.Map(location=[mean_lat, mean_lon], zoom_start=6)\n",
    "\n",
    "# Draw track polylines\n",
    "for _, row in pd.read_json(DATA / \"Tracks.json\").iterrows():\n",
    "    latlngs = [(row[\"lat_a\"], row[\"lon_a\"]), (row[\"lat_b\"], row[\"lon_b\"])]\n",
    "    folium.PolyLine(latlngs, weight=2).add_to(m)\n",
    "\n",
    "# Station markers\n",
    "cluster = MarkerCluster().add_to(m)\n",
    "for _, row in stations.iterrows():\n",
    "    folium.CircleMarker(\n",
    "        location=[row[\"lat\"], row[\"lon\"]],\n",
    "        radius=3 + 0.3 * row[\"n_tracks\"],\n",
    "        tooltip=f\"{row['name']} ({row['n_tracks']} tracks)\",\n",
    "        color=\"blue\",\n",
    "        fill=True,\n",
    "        fill_opacity=0.8\n",
    "    ).add_to(cluster)\n",
    "\n",
    "# Yard markers\n",
    "for _, row in yards.iterrows():\n",
    "    folium.Marker(\n",
    "        location=[row[\"lat\"], row[\"lon\"]],\n",
    "        icon=folium.Icon(color=\"red\", icon=\"train\", prefix=\"fa\"),\n",
    "        tooltip=f\"Yard {row['yard_id']} — {row['city']}\"\n",
    "    ).add_to(m)\n",
    "\n",
    "m  # Jupyter will render this\n"
   ]
  },
  {
   "cell_type": "code",
   "execution_count": null,
   "metadata": {},
   "outputs": [],
   "source": [
    "# After existing imports & graph build\n",
    "import folium, branca.colormap as cm\n",
    "\n",
    "# colour scale by trains/day\n",
    "edge_flows = timetable.groupby([\"dep_city\", \"arr_city\"]).size()\n",
    "max_flow = edge_flows.max() if not edge_flows.empty else 1\n",
    "colormap = cm.linear.YlOrRd_09.scale(0, max_flow)\n",
    "\n",
    "m = folium.Map(location=[33.9, 35.4], zoom_start=8)\n",
    "\n",
    "for u, v, data in G.edges(data=True):\n",
    "    flow = edge_flows.get((u, v), edge_flows.get((v, u), 0))\n",
    "    lat_u = read_json(\"Railyard-position\").set_index(\"city\").loc[u,\"lat\"]\n",
    "    lon_u = read_json(\"Railyard-position\").set_index(\"city\").loc[u,\"lon\"]\n",
    "    lat_v = read_json(\"Railyard-position\").set_index(\"city\").loc[v,\"lat\"]\n",
    "    lon_v = read_json(\"Railyard-position\").set_index(\"city\").loc[v,\"lon\"]\n",
    "    folium.PolyLine(\n",
    "        [(lat_u, lon_u), (lat_v, lon_v)],\n",
    "        weight=3,\n",
    "        color=colormap(flow)\n",
    "    ).add_to(m)\n",
    "\n",
    "for _, row in read_json(\"Railyard-position\").iterrows():\n",
    "    folium.CircleMarker(\n",
    "        [row.lat, row.lon],\n",
    "        radius=4,\n",
    "        color=\"red\" if row.yard_id in list(read_json(\"Railyard-position\")[\"yard_id\"][:4]) else \"blue\",\n",
    "        tooltip=row.city\n",
    "    ).add_to(m)\n",
    "\n",
    "colormap.caption = \"Trains per day\"\n",
    "m.add_child(colormap)\n",
    "m\n"
   ]
  }
 ],
 "metadata": {
  "language_info": {
   "name": "python"
  }
 },
 "nbformat": 4,
 "nbformat_minor": 2
}
