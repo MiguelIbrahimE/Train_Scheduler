{
 "cells": [
  {
   "cell_type": "code",
   "execution_count": null,
   "metadata": {},
   "outputs": [],
   "source": [
    "import json, pathlib as pl, networkx as nx, pandas as pd, matplotlib.pyplot as plt\n",
    "DATA = pl.Path(\"../data\")\n",
    "\n",
    "G     = nx.readwrite.json_graph.node_link_graph(\n",
    "          json.load(open(DATA / \"Tracks.json\")))\n",
    "stations = pd.read_json(DATA / \"Stations.json\")\n",
    "yards    = pd.read_json(DATA / \"Railyard-position.json\")\n"
   ]
  },
  {
   "cell_type": "code",
   "execution_count": null,
   "metadata": {},
   "outputs": [],
   "source": [
    "# Merge station attributes into graph nodes\n",
    "attribs = stations.set_index(\"city\").to_dict(\"index\")\n",
    "nx.set_node_attributes(G, attribs)\n"
   ]
  },
  {
   "cell_type": "code",
   "execution_count": null,
   "metadata": {},
   "outputs": [],
   "source": [
    "fig, ax = plt.subplots(figsize=(10, 10))\n",
    "pos = nx.spring_layout(G, k=0.3, seed=42)\n",
    "\n",
    "node_size = [50 + 8 * G.nodes[n][\"n_tracks\"] for n in G.nodes]\n",
    "node_color = [\"red\" if n in yards[\"city\"].values else \"lightblue\" for n in G.nodes]\n",
    "\n",
    "nx.draw_networkx_nodes(G, pos, node_size=node_size, node_color=node_color, ax=ax)\n",
    "nx.draw_networkx_edges(G, pos, width=1.2, ax=ax)\n",
    "nx.draw_networkx_labels(G, pos, font_size=8, ax=ax)\n",
    "ax.set_title(\"Rail Network — Yard cities in red, node size = #tracks\")\n",
    "ax.axis(\"off\")\n"
   ]
  },
  {
   "cell_type": "code",
   "execution_count": null,
   "metadata": {},
   "outputs": [],
   "source": [
    "import folium\n",
    "from folium.plugins import MarkerCluster\n",
    "\n",
    "# centroid to center map\n",
    "mean_lat = yards[\"lat\"].mean()\n",
    "mean_lon = yards[\"lon\"].mean()\n",
    "m = folium.Map(location=[mean_lat, mean_lon], zoom_start=6)\n",
    "\n",
    "# Draw track polylines\n",
    "for _, row in pd.read_json(DATA / \"Tracks.json\").iterrows():\n",
    "    latlngs = [(row[\"lat_a\"], row[\"lon_a\"]), (row[\"lat_b\"], row[\"lon_b\"])]\n",
    "    folium.PolyLine(latlngs, weight=2).add_to(m)\n",
    "\n",
    "# Station markers\n",
    "cluster = MarkerCluster().add_to(m)\n",
    "for _, row in stations.iterrows():\n",
    "    folium.CircleMarker(\n",
    "        location=[row[\"lat\"], row[\"lon\"]],\n",
    "        radius=3 + 0.3 * row[\"n_tracks\"],\n",
    "        tooltip=f\"{row['name']} ({row['n_tracks']} tracks)\",\n",
    "        color=\"blue\",\n",
    "        fill=True,\n",
    "        fill_opacity=0.8\n",
    "    ).add_to(cluster)\n",
    "\n",
    "# Yard markers\n",
    "for _, row in yards.iterrows():\n",
    "    folium.Marker(\n",
    "        location=[row[\"lat\"], row[\"lon\"]],\n",
    "        icon=folium.Icon(color=\"red\", icon=\"train\", prefix=\"fa\"),\n",
    "        tooltip=f\"Yard {row['yard_id']} — {row['city']}\"\n",
    "    ).add_to(m)\n",
    "\n",
    "m  # Jupyter will render this\n"
   ]
  }
 ],
 "metadata": {
  "language_info": {
   "name": "python"
  }
 },
 "nbformat": 4,
 "nbformat_minor": 2
}
