{
 "cells": [
  {
   "cell_type": "markdown",
   "metadata": {},
   "source": [
    "# BCPC quick demonstration\n",
    "Runs the full pipeline on `input/sample_scenario.csv` and previews the output GeoJSON."
   ]
  },
  {
   "cell_type": "code",
   "execution_count": null,
   "metadata": {},
   "outputs": [],
   "source": [
    "from pathlib import Path\n",
    "from src.io import load_scenario\n",
    "from src.pipeline import run_pipeline\n",
    "\n",
    "sample_csv = Path('input/sample_scenario.csv')\n",
    "rows = load_scenario(sample_csv)\n",

    "design, breakdown, geojson = run_pipeline(rows[0])\n",
    "geojson"
   ]
  },
  {
   "cell_type": "code",
   "execution_count": null,
   "metadata": {},
   "outputs": [],
   "source": [
    "import folium, geopandas as gpd\n",
    "\n",
    "gdf = gpd.read_file(geojson)\n",
    "m = folium.Map(tiles='cartodbpositron')\n",
    "folium.GeoJson(gdf).add_to(m)\n",
    "m"
   ]
  }
 ],
 "metadata": {
  "kernelspec": {
   "display_name": "Python 3 (ipykernel)",
   "language": "python",
   "name": "python3"
  },
  "language_info": {
   "name": "python"
  }
 },
 "nbformat": 4,
 "nbformat_minor": 5
}
